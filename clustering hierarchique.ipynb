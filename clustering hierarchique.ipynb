{
  "cells": [
    {
      "cell_type": "markdown",
      "metadata": {
        "id": "HcsKkdwJlZTk"
      },
      "source": []
    },
    {
      "cell_type": "code",
      "execution_count": null,
      "metadata": {},
      "outputs": [],
      "source": [
        "from sklearn.metrics import silhouette_score, make_scorer\n",
        "from sklearn.model_selection import GridSearchCV\n",
        "from sklearn.cluster import AgglomerativeClustering\n",
        "\n",
        "# Définir l'AgglomerativeClustering\n",
        "CMA = AgglomerativeClustering()\n",
        "\n",
        "# Définir la grille de paramètres\n",
        "param_grid = {\n",
        "    'n_clusters': [2, 3, 4, 5, 6, 7, 8, 9,10],\n",
        "    'affinity': [\"euclidean\", \"l1\", \"l2\", \"manhattan\", \"cosine\"],\n",
        "    'linkage': ['ward', 'complete', 'average', 'single']\n",
        "}\n",
        "\n",
        "# Définir la métrique de scoring\n",
        "scoring = make_scorer(silhouette_score)\n",
        "\n",
        "# Initialiser l'objet GridSearchCV\n",
        "grid_search = GridSearchCV(CMA, param_grid, cv=5, scoring=scoring)\n",
        "\n",
        "# Adapter l'objet GridSearchCV aux données\n",
        "grid_search.fit(X)\n"
      ]
    },
    {
      "cell_type": "code",
      "execution_count": 1,
      "metadata": {},
      "outputs": [
        {
          "name": "stdout",
          "output_type": "stream",
          "text": [
            "Silhouette Score pour nombre de clusters 2: 0.3070303987508227\n",
            "Silhouette Score pour nombre de clusters 3: 0.2116815305351958\n",
            "Silhouette Score pour nombre de clusters 4: 0.12458822807742909\n",
            "Silhouette Score pour nombre de clusters 5: 0.05613765784171341\n",
            "Silhouette Score pour nombre de clusters 6: 0.039729590759482944\n",
            "Silhouette Score pour nombre de clusters 7: 0.09397366263274165\n",
            "Silhouette Score pour nombre de clusters 8: 0.1012979158652774\n",
            "Silhouette Score pour nombre de clusters 9: 0.11485494579971113\n",
            "Silhouette Score pour nombre de clusters 10: 0.10197251566823658\n"
          ]
        }
      ],
      "source": [
        "silhouette_scores = []\n",
        "\n",
        "for n_clusters in range(2, 11):  # Tester de 2 à 10 clusters\n",
        "    kmeans = KMeans(n_clusters=n_clusters, random_state=42)\n",
        "    kmeans.fit(X)\n",
        "    \n",
        "    score = silhouette_score(X, kmeans.labels_)\n",
        "    silhouette_scores.append(score)\n",
        "    \n",
        "    print(f\"Silhouette Score pour nombre de clusters {n_clusters}: {score}\")"
      ]
    }
  ],
  "metadata": {
    "colab": {
      "provenance": []
    },
    "kernelspec": {
      "display_name": "Python 3",
      "name": "python3"
    },
    "language_info": {
      "codemirror_mode": {
        "name": "ipython",
        "version": 3
      },
      "file_extension": ".py",
      "mimetype": "text/x-python",
      "name": "python",
      "nbconvert_exporter": "python",
      "pygments_lexer": "ipython3",
      "version": "3.8.10"
    }
  },
  "nbformat": 4,
  "nbformat_minor": 0
}
