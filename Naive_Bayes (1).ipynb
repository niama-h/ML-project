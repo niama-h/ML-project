{
  "nbformat": 4,
  "nbformat_minor": 0,
  "metadata": {
    "colab": {
      "provenance": []
    },
    "kernelspec": {
      "name": "python3",
      "display_name": "Python 3"
    },
    "language_info": {
      "name": "python"
    }
  },
  "cells": [
    {
      "cell_type": "code",
      "execution_count": null,
      "metadata": {
        "colab": {
          "base_uri": "https://localhost:8080/"
        },
        "id": "EB9OdHZp5M3e",
        "outputId": "35c3b4c8-995e-4ad1-de7f-0f63e4916534"
      },
      "outputs": [
        {
          "output_type": "stream",
          "name": "stderr",
          "text": [
            "/usr/local/lib/python3.10/dist-packages/sklearn/base.py:474: FutureWarning: `BaseEstimator._validate_data` is deprecated in 1.6 and will be removed in 1.7. Use `sklearn.utils.validation.validate_data` instead. This function becomes public and is part of the scikit-learn developer API.\n",
            "  warnings.warn(\n",
            "/usr/local/lib/python3.10/dist-packages/sklearn/utils/_tags.py:354: FutureWarning: The SMOTE or classes from which it inherits use `_get_tags` and `_more_tags`. Please define the `__sklearn_tags__` method, or inherit from `sklearn.base.BaseEstimator` and/or other appropriate mixins such as `sklearn.base.TransformerMixin`, `sklearn.base.ClassifierMixin`, `sklearn.base.RegressorMixin`, and `sklearn.base.OutlierMixin`. From scikit-learn 1.7, not defining `__sklearn_tags__` will raise an error.\n",
            "  warnings.warn(\n"
          ]
        },
        {
          "output_type": "stream",
          "name": "stdout",
          "text": [
            "Best Parameters: {'var_smoothing': 1e-05}\n",
            "Best Score: 0.73\n",
            "Best Parameters: {'alpha': 2.0, 'fit_prior': True}\n",
            "Best Score: 0.83\n",
            "Accuracy: 0.82\n",
            "              precision    recall  f1-score   support\n",
            "\n",
            "           0       0.81      0.84      0.83    221577\n",
            "           1       0.84      0.80      0.82    221577\n",
            "\n",
            "    accuracy                           0.82    443154\n",
            "   macro avg       0.82      0.82      0.82    443154\n",
            "weighted avg       0.82      0.82      0.82    443154\n",
            "\n"
          ]
        }
      ],
      "source": [
        "import numpy as np\n",
        "import pandas as pd\n",
        "import matplotlib.pyplot as plt\n",
        "import seaborn as sns\n",
        "\n",
        "# ML Libraries\n",
        "from sklearn.model_selection import StratifiedShuffleSplit, GridSearchCV\n",
        "from sklearn.naive_bayes import GaussianNB, MultinomialNB\n",
        "from sklearn.preprocessing import MinMaxScaler\n",
        "from sklearn.model_selection import train_test_split\n",
        "from sklearn.linear_model import LogisticRegression\n",
        "from sklearn.naive_bayes import MultinomialNB\n",
        "from sklearn.tree import DecisionTreeClassifier\n",
        "from sklearn.neighbors import KNeighborsClassifier\n",
        "from sklearn.ensemble import RandomForestClassifier, VotingClassifier\n",
        "from sklearn.svm import SVC\n",
        "from sklearn.feature_extraction.text import TfidfVectorizer, CountVectorizer\n",
        "from sklearn.preprocessing import LabelEncoder\n",
        "from sklearn.pipeline import Pipeline\n",
        "from sklearn.metrics import accuracy_score, confusion_matrix, classification_report\n",
        "\n",
        "from transformers import pipeline\n",
        "from transformers import BertTokenizer\n",
        "import re\n",
        "### NAIVE BAYES ######################\n",
        "dfb = pd.read_csv('/content/BBASE.csv')\n",
        "dfb['email_is_free'] = dfb['email_is_free'].astype('category')\n",
        "dfb['phone_home_valid'] = dfb['phone_home_valid'].astype('category')\n",
        "dfb['phone_mobile_valid'] = dfb['phone_mobile_valid'].astype('category')\n",
        "dfb['has_other_cards'] = dfb['has_other_cards'].astype('category')\n",
        "dfb['foreign_request'] = dfb['foreign_request'].astype('category')\n",
        "dfb['keep_alive_session'] = dfb['keep_alive_session'].astype('category')\n",
        "dfb.drop(columns=['device_fraud_count'], inplace=True)\n",
        "y = dfb['fraud_bool']\n",
        "ds=dfb\n",
        "ds.drop(columns=['fraud_bool'],inplace=True)\n",
        "categorical_columns = dfb.select_dtypes(include=['object', 'category']).columns\n",
        "numerical_columns = ds.select_dtypes(include=['number']).columns\n",
        "\n",
        "# Separation\n",
        "X_categorical = dfb[categorical_columns]\n",
        "X_numerical = dfb[numerical_columns]\n",
        "\n",
        "# Encoding\n",
        "from sklearn.preprocessing import OneHotEncoder\n",
        "encoder = OneHotEncoder(sparse_output=False)\n",
        "X_categorical_encoded = encoder.fit_transform(X_categorical)\n",
        "\n",
        "X_processed = np.hstack((X_categorical_encoded, X_numerical))\n",
        "\n",
        "X_processed = np.nan_to_num(X_processed, nan=-1)\n",
        "\n",
        "\n",
        "X = np.array(X_processed)\n",
        "y = np.array(y)\n",
        "\n",
        "\n",
        "from imblearn.over_sampling import SMOTE\n",
        "\n",
        "smote = SMOTE(random_state=42)\n",
        "X_resampled, y_resampled = smote.fit_resample(X, y)\n",
        "\n",
        "X = np.array(X_resampled)\n",
        "y = np.array(y_resampled)\n",
        "\n",
        "# Stratified initial train-test split\n",
        "sss = StratifiedShuffleSplit(n_splits=1, test_size=0.3, random_state=42)\n",
        "train_index, test_index = next(sss.split(X, y))\n",
        "\n",
        "X_train, X_test = X[train_index], X[test_index]\n",
        "y_train, y_test = y[train_index], y[test_index]\n",
        "\n",
        "X_categorical_train, X_categorical_test = X_train[:, :X_categorical_encoded.shape[1]], X_test[:, :X_categorical_encoded.shape[1]]\n",
        "X_numerical_train, X_numerical_test = X_train[:, X_categorical_encoded.shape[1]:], X_test[:, X_categorical_encoded.shape[1]:]\n",
        "\n",
        "# Normalisation\n",
        "scaler = MinMaxScaler()\n",
        "X_numerical_train_scaled = scaler.fit_transform(X_numerical_train)\n",
        "X_numerical_test_scaled = scaler.transform(X_numerical_test)\n",
        "\n",
        "# grid search\n",
        "param_grid_gnb = {'var_smoothing': [1e-9, 1e-7, 1e-5, 1e-3]}\n",
        "param_grid_mnb = {'alpha': [0.1, 0.5, 1.0, 2.0], 'fit_prior': [True, False]}\n",
        "\n",
        "gnb = GaussianNB()\n",
        "grid_search_gnb = GridSearchCV(gnb, param_grid_gnb, cv=5, scoring='recall_macro')\n",
        "grid_result=grid_search_gnb.fit(X_numerical_train_scaled, y_train)\n",
        "print(f\"Best Parameters: {grid_result.best_params_}\")\n",
        "print(f\"Best Score: {grid_result.best_score_:.2f}\")\n",
        "\n",
        "mnb = MultinomialNB()\n",
        "grid_search_mnb = GridSearchCV(mnb, param_grid_mnb, cv=5, scoring='recall_macro')\n",
        "grid_result=grid_search_mnb.fit(X_categorical_train, y_train)\n",
        "print(f\"Best Parameters: {grid_result.best_params_}\")\n",
        "print(f\"Best Score: {grid_result.best_score_:.2f}\")\n",
        "best_gnb = grid_search_gnb.best_estimator_\n",
        "best_mnb = grid_search_mnb.best_estimator_\n",
        "\n",
        "gnb_log_probs = best_gnb.predict_log_proba(X_numerical_test_scaled)\n",
        "mnb_log_probs = best_mnb.predict_log_proba(X_categorical_test)\n",
        "\n",
        "final_log_probs = gnb_log_probs + mnb_log_probs\n",
        "y_pred = np.argmax(final_log_probs, axis=1)\n",
        "\n",
        "# Evaluation\n",
        "print(f\"Accuracy: {accuracy_score(y_test, y_pred):.2f}\")\n",
        "print(classification_report(y_test, y_pred))\n"
      ]
    },
    {
      "cell_type": "markdown",
      "source": [],
      "metadata": {
        "id": "fG_7xur3Wh5P"
      }
    },
    {
      "cell_type": "code",
      "source": [],
      "metadata": {
        "id": "yF7TTXnN7NAr"
      },
      "execution_count": null,
      "outputs": []
    }
  ]
}